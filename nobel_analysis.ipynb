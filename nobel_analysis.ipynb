{
 "cells": [
  {
   "cell_type": "code",
   "execution_count": null,
   "metadata": {},
   "outputs": [],
   "source": [
    "import pandas as pd\n",
    "\n",
    "nobel_df = pd.read_csv('nobel.csv')\n",
    "\n",
    "# first question\n",
    "top_gender = nobel_df['sex'].value_counts().idxmax()\n",
    "top_country = nobel_df['birth_country'].value_counts().idxmax()\n",
    "\n",
    "# second question\n",
    "nobel_df['decade'] = (nobel_df['year'] // 10) * 10\n",
    "nobel_by_decade = nobel_df.groupby('decade')\n",
    "usa_winners_by_decade = nobel_by_decade['birth_country'].apply(lambda x: (x == 'United States of America').sum())\n",
    "total_winners_by_decade = nobel_by_decade.size()\n",
    "proportion_usa = usa_winners_by_decade / total_winners_by_decade\n",
    "max_decade_usa = proportion_usa.idxmax()\n",
    "\n",
    "#third question\n",
    "nobel_by_decade_and_category = nobel_df.groupby(['decade', 'category'])\n",
    "female_winners_by_d_and_c = nobel_by_decade_and_category['sex'].apply(lambda x: (x == 'Female').sum())\n",
    "total_winners_by_d_and_c = nobel_by_decade_and_category.size()\n",
    "proportion_female_winners = female_winners_by_d_and_c / total_winners_by_d_and_c\n",
    "max_female = proportion_female_winners.idxmax()\n",
    "max_female_dict = {\n",
    "    max_female[0]: max_female[1]\n",
    "}\n",
    "\n",
    "#forth question\n",
    "female_winners = nobel_df[nobel_df['sex'] == 'Female']\n",
    "first_winner = female_winners.iloc[0]\n",
    "first_woman_name = first_winner['full_name']\n",
    "first_woman_category = first_winner['category']\n",
    "\n",
    "#fifth question\n",
    "counts = nobel_df['full_name'].value_counts()\n",
    "repeat_names = counts[counts > 1]\n",
    "repeat_list = repeat_names.index.tolist()"
   ]
  }
 ],
 "metadata": {
  "language_info": {
   "name": "python"
  }
 },
 "nbformat": 4,
 "nbformat_minor": 2
}
